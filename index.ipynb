{
 "cells": [
  {
   "cell_type": "markdown",
   "metadata": {},
   "source": [
    "# Word Count with Map-Reduce\n",
    "\n",
    "## Introduction\n",
    "\n",
    "now that we have seen the key map and reduce operators in spark, and also know when to use transformation and action operators, we can revisit the word count problem we introduced earlier in the section. In this lab, we will use the methods seen in the coding labs to read a text corpus into spark environment, perform a word count and try basic NLP ideas to get a good grip on how MapReduce performs. \n",
    "\n",
    "Note: In your Pyspark environment, create a folder `data` and move all the files from the provided `data` folder into it. Jupyter interface doesnt allow moving complete folders. \n",
    "\n",
    "## Objectives\n",
    "\n",
    "You will be able to:\n",
    "\n",
    "* Describe Map-Reduce operation in a big data context\n",
    "* Perform basic NLP tasks with a given text corpus\n",
    "* Perform basic analysis from the experiment findings towards identifying writing styles\n",
    "\n",
    "## Map-Reduce task\n",
    "\n",
    "Here is what our problem looks like:\n",
    "\n",
    "* We have a huge text document\n",
    "* We need to count the number of times each distinct word appears in the document\n",
    "\n",
    "\n",
    "* Sample application:\n",
    "\n",
    "    * Analyze web server logs to find popular URLs\n",
    "    * Analyze texts for content or style "
   ]
  },
  {
   "cell_type": "markdown",
   "metadata": {},
   "source": [
    "## Word Count\n",
    "\n",
    "We will illustrate a MapReduce computation for counting the number of occurrences for each word in a text corpus. In this example, the input file is a repository of documents, and each document is an element. We shall count the frequency of stop words for __style identification__ as stop words might have unique features which can potentially describe author's writing style based on their use of stop words while writing. We shall look at some texts by Shakspeare and Jane Austin following this motivation. \n",
    "\n",
    "Map-Reduce in PySpark provides a practical and efficient way of achieving this goal as it: \n",
    "\n",
    "* works if the file is too large for memory\n",
    "\n",
    "* works even if the ouput is too large for memory\n",
    "\n",
    "* is naturally parallelizable\n"
   ]
  },
  {
   "cell_type": "markdown",
   "metadata": {},
   "source": [
    "### Map-Reduce Framework\n",
    "\n",
    "Here are the steps that we will perform for our problem, under the map reduce framework. \n",
    "\n",
    "* Sequentially read a lot of data (text files in this case)\n",
    "\n",
    "\n",
    "* Map:\n",
    "    * Extract something you care about\n",
    "\n",
    "\n",
    "* Group by key: Sort and Shuffle\n",
    "\n",
    "\n",
    "* Reduce:\n",
    "    * Aggregate, summarize, filter or transform\n",
    "\n",
    "\n",
    "* Write the result \n",
    "\n",
    "Here is what it looks like visually: \n",
    "![](wc1.png)"
   ]
  },
  {
   "cell_type": "markdown",
   "metadata": {},
   "source": [
    "### Initialize SparkContext()\n",
    "\n",
    "Let's import the pyspark module into python environment and initialize a `SparkConext()`\n",
    "\n",
    "- Initliaze a local spark context"
   ]
  },
  {
   "cell_type": "code",
   "execution_count": 3,
   "metadata": {},
   "outputs": [],
   "source": [
    "# Start a local SparkContext\n",
    "\n",
    "# Code here \n"
   ]
  },
  {
   "cell_type": "markdown",
   "metadata": {},
   "source": [
    "To test our code, we shall start with a single text file, hamlet.txt. First we shall set a file path variable.\n",
    "\n",
    "set a file path variable `file` to the location of `hamlet.txt`"
   ]
  },
  {
   "cell_type": "code",
   "execution_count": 4,
   "metadata": {},
   "outputs": [
    {
     "data": {
      "text/plain": [
       "'text/hamlet.txt'"
      ]
     },
     "execution_count": 4,
     "metadata": {},
     "output_type": "execute_result"
    }
   ],
   "source": [
    "# Set a path variable for data \n",
    "\n",
    "# Code here \n",
    "\n"
   ]
  },
  {
   "cell_type": "markdown",
   "metadata": {},
   "source": [
    "## Read and Split text file contents into RDD - `sc.textFile()`\n",
    "\n",
    "Previously we used the parallalization to read an RDD from a python list. Here we shall read the text file into Spark RDDs by using `sc.textFile()` method for loading the text file into the `lines` RDD. The documentation on RDDs can be found [here!!](https://spark.apache.org/docs/latest/rdd-programming-guide.html)\n",
    "\n",
    "`textFile(path)` method reads a text file from HDFS/local file system/any hadoop supported file system, into the number of partitions specified and returns it as an RDD of Strings. In order to view the contents of RDD, we will use `RDD.collect()` method as calling the RDD by name will not return the contents, only the object type and relevant information "
   ]
  },
  {
   "cell_type": "code",
   "execution_count": 5,
   "metadata": {},
   "outputs": [
    {
     "data": {
      "text/plain": [
       "text/hamlet.txt MapPartitionsRDD[1] at textFile at NativeMethodAccessorImpl.java:0"
      ]
     },
     "execution_count": 5,
     "metadata": {},
     "output_type": "execute_result"
    }
   ],
   "source": [
    "# Read the text file into an RDD using sc.textFile()\n",
    "\n",
    "\n",
    "# Code here \n"
   ]
  },
  {
   "cell_type": "markdown",
   "metadata": {},
   "source": [
    "The text file has been written in a \"line-by-line\" manner into the RDD. We can access any given entry using simple indexing. \n",
    "\n",
    "- Print a few sample lines from the `lines` RDD"
   ]
  },
  {
   "cell_type": "code",
   "execution_count": 10,
   "metadata": {},
   "outputs": [
    {
     "name": "stdout",
     "output_type": "stream",
     "text": [
      "    But even then the morning cock crew loud,\n",
      "  Ham. Indeed, upon my sword, indeed.\n"
     ]
    }
   ],
   "source": [
    "\n",
    "# Code here \n"
   ]
  },
  {
   "cell_type": "markdown",
   "metadata": {},
   "source": [
    "Similarly , we can also print the whole document, lines by line. \n",
    "\n",
    "- Print complete hamlet from the lines RDD"
   ]
  },
  {
   "cell_type": "code",
   "execution_count": 17,
   "metadata": {
    "scrolled": true
   },
   "outputs": [],
   "source": [
    "# Print the text, line-by-line\n",
    "# This will output the whole of hamlet text, one line at a time. \n",
    "\n",
    "\n",
    "# Code here \n"
   ]
  },
  {
   "cell_type": "markdown",
   "metadata": {},
   "source": [
    "Great, now that we have the complete text files into `lines` RDD, we can easily use map function to break it down further into individual words and parallelize it accoridngly. \n",
    "\n",
    "__Note: Paralellization is handled by Spark environment accordnig to available infrastructure and doesnt need any further configuration__.\n",
    "\n",
    "## The MAP function `map(func)`\n",
    "\n",
    "The Map function for this example uses keys that are of type String (the words) and values that are integers. The Map task reads a document and breaks it into its sequence of words `w1, w2, . . . , wn`. It then emits a sequence of key-value pairs for each word where the word iteself is the key and the value is always 1. That is, the output of the Map task for this document is the sequence of key-value pairs as shown below:\n",
    "\n",
    "> `(w1, 1), (w2, 1), . . . ,(wn, 1)`\n",
    "\n",
    "Map Function is the first step in MapReduce Algorithm. It takes input tasks and divides them into smaller sub-tasks and then performs required computation on each sub-task in parallel.\n",
    "\n",
    "This step performs the following two sub-steps:\n",
    "\n",
    "* Splitting step takes input DataSet from Source and divide into smaller Sub-Sets.\n",
    "* Mapping step takes those smaller Sub-DataSets and perform required action or computation on each Sub-DataSet.\n",
    "\n",
    "The output of this Map Function is a set of key and value pairs as <Key, Value> as shown in the below diagram.\n",
    "\n",
    "![](map.jpg)\n",
    "\n",
    "\n",
    "### Spark Mapping functions\n",
    "\n",
    "Previously, we saw that:\n",
    "\n",
    "- `map(func)`\treturns a new distributed dataset formed by passing each element of the source through a function `func`.\n",
    "\n",
    "- `flatMap(func)` maps each input item to 0 or more output items (so `func` should return a Seq rather than a single item).\n",
    "\n",
    "`flatMap()` breaks the output of the lambda function into individual RDD elements (as opposed to map).\n",
    "\n",
    "---\n",
    "\n",
    "* Use `RDD.flatMap` to split the lines by the spaces and collect into one flat RDD.\n",
    "\n",
    "* The transformation is defined in the lambda expression, where the input x is defined as producing result  \n",
    "`x.split(' ')`.\n",
    "\n",
    "* Use the `RDD.take(n)` method to pick n words from the top of the sequence. n=10\n",
    "\n",
    "`flatMap()` breaks the output of the lambda function into individual RDD elements (as opposed to map).\n"
   ]
  },
  {
   "cell_type": "code",
   "execution_count": 13,
   "metadata": {},
   "outputs": [
    {
     "data": {
      "text/plain": [
       "['', '1604', '', '', 'THE', 'TRAGEDY', 'OF', 'HAMLET,', 'PRINCE', 'OF']"
      ]
     },
     "execution_count": 13,
     "metadata": {},
     "output_type": "execute_result"
    }
   ],
   "source": [
    "# split the lines into words based on blanks ' ' and show ten elements from the top \n",
    "\n",
    "\n",
    "# Code here \n",
    "\n",
    "\n",
    "# ['', '1604', '', '', 'THE', 'TRAGEDY', 'OF', 'HAMLET,', 'PRINCE', 'OF']"
   ]
  },
  {
   "cell_type": "markdown",
   "metadata": {},
   "source": [
    "\n",
    "### Create a Tuple as (k,v)\n",
    "\n",
    "- Map each words to a tuple of (word, 1).\n",
    "\n",
    "Map doesn't break up the output of the lambda expression, so that the tuples stay intact."
   ]
  },
  {
   "cell_type": "code",
   "execution_count": 14,
   "metadata": {},
   "outputs": [
    {
     "data": {
      "text/plain": [
       "[('', 1),\n",
       " ('1604', 1),\n",
       " ('', 1),\n",
       " ('', 1),\n",
       " ('THE', 1),\n",
       " ('TRAGEDY', 1),\n",
       " ('OF', 1),\n",
       " ('HAMLET,', 1),\n",
       " ('PRINCE', 1),\n",
       " ('OF', 1)]"
      ]
     },
     "execution_count": 14,
     "metadata": {},
     "output_type": "execute_result"
    }
   ],
   "source": [
    "# Use a lambda function with map to add a 1 to each word and output a tuple\n",
    "# (word, 1) - Take ten elements\n",
    "\n",
    "\n",
    "# Code here \n"
   ]
  },
  {
   "cell_type": "markdown",
   "metadata": {},
   "source": [
    "### Change the words to lower case to ensure integrity\n",
    "\n",
    "As we can see from the output above, the text contains words in capital as well as lower case. By default, 'THE' and 'the' would be considered two separate words due to case sensitivity. \n",
    "\n",
    "- Modify the map function above to change all the words to lowercase using a `.lower()` inside the lambda function.\n"
   ]
  },
  {
   "cell_type": "code",
   "execution_count": 15,
   "metadata": {},
   "outputs": [
    {
     "data": {
      "text/plain": [
       "[('', 1),\n",
       " ('1604', 1),\n",
       " ('', 1),\n",
       " ('', 1),\n",
       " ('the', 1),\n",
       " ('tragedy', 1),\n",
       " ('of', 1),\n",
       " ('hamlet,', 1),\n",
       " ('prince', 1),\n",
       " ('of', 1)]"
      ]
     },
     "execution_count": 15,
     "metadata": {},
     "output_type": "execute_result"
    }
   ],
   "source": [
    "# Change the words in words tuples to lowercase - take 10 elements \n",
    "\n",
    "\n",
    "# Code here \n"
   ]
  },
  {
   "cell_type": "markdown",
   "metadata": {},
   "source": [
    "## REDUCE Function\n",
    "The Reduce function’s argument is a pair consisting of a key and its list of associated values as the pairs created above. The output of the Reduce function is a sequence of zero or more key-value pairs. These key-value pairs can be of a type different from those sent from Map tasks to Reduce tasks, but often they are the same type.\n",
    "\n",
    "We shall refer to the application of the Reduce function to a single key and its associated list of values as a reducer.\n",
    "\n",
    "![](reduce.png)\n",
    "\n",
    "- Use `RDD.reduceByKey` to add up all the words. the new k,v pairs would have word as the key and number of occurances as a value. \n",
    "\n",
    "Here, the lambda has two arguments (x and y) that are added."
   ]
  },
  {
   "cell_type": "code",
   "execution_count": 13,
   "metadata": {},
   "outputs": [
    {
     "data": {
      "text/plain": [
       "[('', 20383),\n",
       " ('1604', 1),\n",
       " ('tragedy', 1),\n",
       " ('of', 670),\n",
       " ('prince', 2),\n",
       " ('denmark', 10),\n",
       " ('shakespeare', 1),\n",
       " ('dramatis', 1),\n",
       " ('claudius,', 2),\n",
       " ('king', 43)]"
      ]
     },
     "execution_count": 13,
     "metadata": {},
     "output_type": "execute_result"
    }
   ],
   "source": [
    "# USe reduceByKey with tuplesLCase to add all values under same keys - take 10\n",
    "\n",
    "\n",
    "# Code here \n"
   ]
  },
  {
   "cell_type": "markdown",
   "metadata": {},
   "source": [
    "### Filter rare words\n",
    "\n",
    "Following the standard NLP approach, we can add a filtering step to remove all words which appear less than some thershaold value, say, with less than 5 occurrences. \n",
    "\n",
    "This can be useful to identify common topics between documents, where very rare words can be misleading. \n",
    "For this step we shall use the `RDD.filter(func)` where func is a lambda function that filters out any word which appears less than or equal to 5 times. You may also use a spearate function to achieve this. \n",
    "\n",
    "- Remove rare words with occurences < 5 using lambda function inside a `.filter()` method. "
   ]
  },
  {
   "cell_type": "code",
   "execution_count": 14,
   "metadata": {},
   "outputs": [
    {
     "data": {
      "text/plain": [
       "[('', 20383),\n",
       " ('of', 670),\n",
       " ('denmark', 10),\n",
       " ('king', 43),\n",
       " ('son', 11),\n",
       " ('polonius,', 6),\n",
       " ('horatio,', 15),\n",
       " ('hamlet.', 25),\n",
       " ('courtier.', 7),\n",
       " ('rosencrantz,', 6)]"
      ]
     },
     "execution_count": 14,
     "metadata": {},
     "output_type": "execute_result"
    }
   ],
   "source": [
    "# Remove all rare words with frequency less than 5 - take 10 \n",
    "\n",
    "\n",
    "# Code here \n",
    "\n"
   ]
  },
  {
   "cell_type": "markdown",
   "metadata": {},
   "source": [
    "### List  Stopwords\n",
    "\n",
    "Add a filtering step to retain only words included in a list of stopwords. \n",
    "\n",
    "Stopwords can be useful for recognising the style of an author. Removing stopwords can be useful in regocnising the topic of a document. For stopword removal, we use the `RDD.filter(func)` again with a lambda function that uses a stop word list to extract the key value pairs for only the words that are present in the stop word list. Use a simple list as the one shown below:\n",
    "> ['', 'the','a','in','of','on','at','for','by','I','you','me'] \n",
    "\n",
    "\n",
    "- Use the stop word list above to count the occcurances of these words in the document\n",
    "- Show stop word frequency"
   ]
  },
  {
   "cell_type": "code",
   "execution_count": 16,
   "metadata": {},
   "outputs": [
    {
     "data": {
      "text/plain": [
       "[('', 20383),\n",
       " ('of', 670),\n",
       " ('at', 87),\n",
       " ('i', 523),\n",
       " ('in', 420),\n",
       " ('the', 1083),\n",
       " ('by', 111),\n",
       " ('a', 540),\n",
       " ('you', 433),\n",
       " ('for', 231),\n",
       " ('me', 144),\n",
       " ('on', 108)]"
      ]
     },
     "execution_count": 16,
     "metadata": {},
     "output_type": "execute_result"
    }
   ],
   "source": [
    "# show stopword frequency in the output\n",
    "\n",
    "\n",
    "# Code here \n",
    "\n"
   ]
  },
  {
   "cell_type": "markdown",
   "metadata": {},
   "source": [
    "### List of keep words\n",
    "\n",
    "- Modify the filter operation above to keep all the words found in the text **except** the stop words. "
   ]
  },
  {
   "cell_type": "code",
   "execution_count": 71,
   "metadata": {},
   "outputs": [
    {
     "data": {
      "text/plain": [
       "[('and', 939),\n",
       " ('to', 727),\n",
       " ('my', 519),\n",
       " ('ham.', 358),\n",
       " ('that', 343),\n",
       " ('is', 327),\n",
       " ('it', 327),\n",
       " ('his', 302),\n",
       " ('not', 274),\n",
       " ('with', 267)]"
      ]
     },
     "execution_count": 71,
     "metadata": {},
     "output_type": "execute_result"
    }
   ],
   "source": [
    "# Modify above filter to show top ten keep words by frequency\n",
    "\n",
    "\n",
    "# Code here \n"
   ]
  },
  {
   "cell_type": "markdown",
   "metadata": {},
   "source": [
    "### Putting it all together \n",
    "\n",
    "Combine above code as a function and pass on three works of Shakespeare (romeandjuliet.txt, hamlet.txt, othello.txt) and observe the frequency of stop words. Repeat the same exercise for three works of Jane Austin (senseandsensibility.txt, prideandprejudice.txt and emma.txt). \n",
    "\n",
    "> Can you recognise the writing styles of these authors based on their use of stop words ?\n",
    "> What can you do to improve the style recognition ability ??"
   ]
  },
  {
   "cell_type": "code",
   "execution_count": 16,
   "metadata": {},
   "outputs": [],
   "source": [
    "# Create a function for word count that takes in a file name and stop wordlist to perform above tasks\n",
    "def wordCount(filename, stopWordlist):\n",
    "    pass"
   ]
  },
  {
   "cell_type": "markdown",
   "metadata": {},
   "source": [
    "## Summary \n",
    "\n",
    "In this simple exercise , we saw map-reduce in action towards solving a basic NLP task i.e. counting the stop words and keep words frequency of a text corpus. This exercise can be seen as a first step towards text analystics on big data platforms. Here is a summary of above process. \n",
    "\n",
    "<img src=\"wc2.png\" width=400>"
   ]
  }
 ],
 "metadata": {
  "kernelspec": {
   "display_name": "Python 3",
   "language": "python",
   "name": "python3"
  },
  "language_info": {
   "codemirror_mode": {
    "name": "ipython",
    "version": 3
   },
   "file_extension": ".py",
   "mimetype": "text/x-python",
   "name": "python",
   "nbconvert_exporter": "python",
   "pygments_lexer": "ipython3",
   "version": "3.6.6"
  }
 },
 "nbformat": 4,
 "nbformat_minor": 1
}
